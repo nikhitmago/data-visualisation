{
 "cells": [
  {
   "cell_type": "code",
   "execution_count": 1,
   "metadata": {},
   "outputs": [],
   "source": [
    "import numpy as np\n",
    "import pandas as pd\n",
    "import matplotlib.pyplot as plt"
   ]
  },
  {
   "cell_type": "markdown",
   "metadata": {},
   "source": [
    "### males"
   ]
  },
  {
   "cell_type": "code",
   "execution_count": 2,
   "metadata": {},
   "outputs": [],
   "source": [
    "males = pd.read_csv(\"../raw_data/male.csv\")\n",
    "\n",
    "males = males.replace('nan', '?', regex=True)\n",
    "\n",
    "for col in males.columns:\n",
    "    males[col] = males[col].astype(str)\n",
    "\n",
    "for col in males.columns:\n",
    "    if col != 'Region':\n",
    "        males[col] = males[col].apply(lambda x: x.replace(' ', ''))\n",
    "    males[col] = males[col].apply(lambda x: np.NaN if x == '?' else x)\n",
    "\n",
    "for col in males.columns[3:]:\n",
    "    males[col] = males[col].astype('float64')\n",
    "\n",
    "males.fillna(0, inplace = True)\n",
    "\n",
    "males1 = males.loc[:,['Region', 'Country_code', 'Year']]\n",
    "\n",
    "males1['Young'] = males['0-4'] + males['5-9'] + males['10-14']\n",
    "males1['Middle'] = males['15-19'] + males['20-24'] + males['25-29'] + males['30-34'] + males['35-39'] + males['40-44'] + males['45-49'] + males['50-54'] + males['55-59'] + males['60-64']\n",
    "males1['Old'] = males['65-69'] + males['70-74'] + males['75-79'] + males['80+'] + males['80-84'] + males['85-89'] + males['90-94'] + males['95-99'] + males['100+']\n",
    "\n",
    "for col in ['Young', 'Middle', 'Old']:\n",
    "    males1[col] = males1[col].astype(int)"
   ]
  },
  {
   "cell_type": "markdown",
   "metadata": {},
   "source": [
    "### females"
   ]
  },
  {
   "cell_type": "code",
   "execution_count": 3,
   "metadata": {},
   "outputs": [],
   "source": [
    "females = pd.read_csv(\"../raw_data/female.csv\")\n",
    "\n",
    "females = females.replace('nan', '?', regex=True)\n",
    "\n",
    "for col in females.columns:\n",
    "    females[col] = females[col].astype(str)\n",
    "\n",
    "for col in females.columns:\n",
    "    if col != 'Region':\n",
    "        females[col] = females[col].apply(lambda x: x.replace(' ', ''))\n",
    "    females[col] = females[col].apply(lambda x: np.NaN if x == '?' else x)\n",
    "\n",
    "for col in females.columns[3:]:\n",
    "    females[col] = females[col].astype('float64')\n",
    "\n",
    "females.fillna(0, inplace = True)\n",
    "\n",
    "females1 = females.loc[:,['Region', 'Country_code', 'Year']]\n",
    "\n",
    "females1['Young'] = females['0-4'] + females['5-9'] + females['10-14']\n",
    "females1['Middle'] = females['15-19'] + females['20-24'] + females['25-29'] + females['30-34'] + females['35-39'] + females['40-44'] + females['45-49'] + females['50-54'] + females['55-59'] + females['60-64']\n",
    "females1['Old'] = females['65-69'] + females['70-74'] + females['75-79'] + females['80+'] + females['80-84'] + females['85-89'] + females['90-94'] + females['95-99'] + females['100+']\n",
    "\n",
    "for col in ['Young', 'Middle', 'Old']:\n",
    "    females1[col] = females1[col].astype(int)"
   ]
  },
  {
   "cell_type": "markdown",
   "metadata": {},
   "source": [
    "### adding males + females"
   ]
  },
  {
   "cell_type": "code",
   "execution_count": 4,
   "metadata": {},
   "outputs": [],
   "source": [
    "main = pd.merge(males1, females1, on=[\"Region\", \"Country_code\", \"Year\"], how=\"left\")"
   ]
  },
  {
   "cell_type": "code",
   "execution_count": 5,
   "metadata": {},
   "outputs": [],
   "source": [
    "for col in ['Young', 'Middle', 'Old']:\n",
    "    main[col] = main[col+\"_x\"] + main[col+\"_y\"]"
   ]
  },
  {
   "cell_type": "code",
   "execution_count": 6,
   "metadata": {},
   "outputs": [],
   "source": [
    "for col in main.columns:\n",
    "    if col.endswith(\"_x\") or col.endswith(\"_y\"):\n",
    "        del main[col]"
   ]
  },
  {
   "cell_type": "code",
   "execution_count": 8,
   "metadata": {},
   "outputs": [
    {
     "data": {
      "text/plain": [
       "Region          0\n",
       "Country_code    0\n",
       "Year            0\n",
       "Young           0\n",
       "Middle          0\n",
       "Old             0\n",
       "dtype: int64"
      ]
     },
     "execution_count": 8,
     "metadata": {},
     "output_type": "execute_result"
    }
   ],
   "source": [
    "main.isnull().sum()"
   ]
  },
  {
   "cell_type": "code",
   "execution_count": 10,
   "metadata": {},
   "outputs": [],
   "source": [
    "del main['Country_code']"
   ]
  },
  {
   "cell_type": "code",
   "execution_count": 12,
   "metadata": {},
   "outputs": [],
   "source": [
    "main.to_csv(\"../processed_files/age_distribution.csv\",index=False)"
   ]
  },
  {
   "cell_type": "code",
   "execution_count": null,
   "metadata": {},
   "outputs": [],
   "source": []
  }
 ],
 "metadata": {
  "kernelspec": {
   "display_name": "Python 2",
   "language": "python",
   "name": "python2"
  },
  "language_info": {
   "codemirror_mode": {
    "name": "ipython",
    "version": 2
   },
   "file_extension": ".py",
   "mimetype": "text/x-python",
   "name": "python",
   "nbconvert_exporter": "python",
   "pygments_lexer": "ipython2",
   "version": "2.7.14"
  }
 },
 "nbformat": 4,
 "nbformat_minor": 2
}
